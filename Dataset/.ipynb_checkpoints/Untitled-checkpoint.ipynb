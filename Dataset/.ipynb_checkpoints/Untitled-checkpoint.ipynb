{
 "cells": [
  {
   "cell_type": "code",
   "execution_count": 1811,
   "metadata": {},
   "outputs": [],
   "source": [
    "import pandas as pd\n",
    "import numpy as np\n",
    "\n",
    "import featuretools as ft\n",
    "\n",
    "from sklearn.preprocessing import StandardScaler, MinMaxScaler\n",
    "from xgboost import XGBRegressor, XGBRFRegressor\n",
    "from keras import models\n",
    "from keras import layers\n",
    "from sklearn.ensemble import AdaBoostRegressor\n",
    "from sklearn.ensemble import RandomForestRegressor\n",
    "import lightgbm as lgb\n",
    "from sklearn.model_selection import train_test_split\n",
    "\n",
    "import warnings\n",
    "warnings.filterwarnings(\"ignore\")"
   ]
  },
  {
   "cell_type": "code",
   "execution_count": 1812,
   "metadata": {},
   "outputs": [],
   "source": [
    "train = pd.read_csv('/Users/hduser/Documents/AnalyticsVidhya/Hackathons/HackerEarth/1/Dataset/Train.csv')\n",
    "test = pd.read_csv('/Users/hduser/Documents/AnalyticsVidhya/Hackathons/HackerEarth/1/Dataset/Test.csv')\n",
    "y = train.Attrition_rate\n",
    "ID = test.Employee_ID\n",
    "train.drop(['Attrition_rate'], axis=1, inplace=True)\n",
    "data = pd.concat([train, test])\n",
    "data.drop(['Employee_ID'], axis=1, inplace=True)"
   ]
  },
  {
   "cell_type": "code",
   "execution_count": null,
   "metadata": {},
   "outputs": [],
   "source": []
  },
  {
   "cell_type": "markdown",
   "metadata": {},
   "source": [
    "# Filling Missing Data"
   ]
  },
  {
   "cell_type": "code",
   "execution_count": 1813,
   "metadata": {},
   "outputs": [
    {
     "data": {
      "text/plain": [
       "Gender                         0\n",
       "Age                          573\n",
       "Education_Level                0\n",
       "Relationship_Status            0\n",
       "Hometown                       0\n",
       "Unit                           0\n",
       "Decision_skill_possess         0\n",
       "Time_of_service              196\n",
       "Time_since_promotion           0\n",
       "growth_rate                    0\n",
       "Travel_Rate                    0\n",
       "Post_Level                     0\n",
       "Pay_Scale                     12\n",
       "Compensation_and_Benefits      0\n",
       "Work_Life_balance             16\n",
       "VAR1                           0\n",
       "VAR2                         794\n",
       "VAR3                           0\n",
       "VAR4                         954\n",
       "VAR5                           0\n",
       "VAR6                           0\n",
       "VAR7                           0\n",
       "dtype: int64"
      ]
     },
     "execution_count": 1813,
     "metadata": {},
     "output_type": "execute_result"
    }
   ],
   "source": [
    "data.isnull().sum()"
   ]
  },
  {
   "cell_type": "code",
   "execution_count": 1814,
   "metadata": {},
   "outputs": [],
   "source": [
    "def age_fill(data):\n",
    "    data.Age.fillna('NaN', inplace=True)\n",
    "    age_sam = data.Age == 'NaN'\n",
    "    \n",
    "    data.Age[(age_sam) & (data.Education_Level >= 1) & (data.Education_Level < 3) & \n",
    "             (data.Time_of_service >= 0) & (data.Time_of_service < 5) ] = 30\n",
    "    data.Age[(age_sam) & (data.Education_Level >= 1) & (data.Education_Level < 3) & \n",
    "             (data.Time_of_service >= 5) & (data.Time_of_service < 20) ] = 40\n",
    "    data.Age[(age_sam) & (data.Education_Level >= 1) & (data.Education_Level < 3) & \n",
    "             (data.Time_of_service >= 20) & (data.Time_of_service < 30) ] = 50\n",
    "    data.Age[(age_sam) & (data.Education_Level >= 1) & (data.Education_Level < 3) & \n",
    "             (data.Time_of_service >= 30) & (data.Time_of_service < 44) ] = 60\n",
    "    \n",
    "    data.Age[(age_sam) & (data.Education_Level >= 3) & (data.Education_Level < 6) & \n",
    "             (data.Time_of_service >= 0) & (data.Time_of_service < 5) ] = 45\n",
    "    data.Age[(age_sam) & (data.Education_Level >= 3) & (data.Education_Level < 6) & \n",
    "             (data.Time_of_service >= 5) & (data.Time_of_service < 20) ] = 55\n",
    "    data.Age[(age_sam) & (data.Education_Level >= 3) & (data.Education_Level < 6) & \n",
    "             (data.Time_of_service >= 20) & (data.Time_of_service < 30) ] = 60\n",
    "    data.Age[(age_sam) & (data.Education_Level >= 3) & (data.Education_Level < 6) & \n",
    "             (data.Time_of_service >= 30) & (data.Time_of_service < 44) ] = 65\n",
    "    \n",
    "age_fill(data)"
   ]
  },
  {
   "cell_type": "code",
   "execution_count": 1815,
   "metadata": {},
   "outputs": [],
   "source": [
    "def age_fill_tos(data):\n",
    "    age_sam = data.Age == 'NaN'\n",
    "    \n",
    "    data.Age[(age_sam) & (data.Education_Level >= 1) & (data.Education_Level < 3) & \n",
    "             (data.Pay_Scale >= 1) & (data.Pay_Scale < 4) ] = 30\n",
    "    data.Age[(age_sam) & (data.Education_Level >= 1) & (data.Education_Level < 3) & \n",
    "             (data.Pay_Scale >= 4) & (data.Pay_Scale < 7) ] = 37\n",
    "    data.Age[(age_sam) & (data.Education_Level >= 1) & (data.Education_Level < 3) & \n",
    "             (data.Pay_Scale >= 7) & (data.Pay_Scale < 11) ] = 42\n",
    "    \n",
    "    data.Age[(age_sam) & (data.Education_Level >= 3) & (data.Education_Level < 6) & \n",
    "             (data.Pay_Scale >= 1) & (data.Pay_Scale < 4) ] = 35\n",
    "    data.Age[(age_sam) & (data.Education_Level >= 3) & (data.Education_Level < 6) & \n",
    "             (data.Pay_Scale >= 4) & (data.Pay_Scale < 7) ] = 45\n",
    "    data.Age[(age_sam) & (data.Education_Level >= 3) & (data.Education_Level < 6) & \n",
    "             (data.Pay_Scale >= 7) & (data.Pay_Scale < 11) ] = 55\n",
    "\n",
    "age_fill_tos(data)\n",
    "\n",
    "data.Age = pd.to_numeric(data.Age, errors='coerce')"
   ]
  },
  {
   "cell_type": "code",
   "execution_count": 1816,
   "metadata": {},
   "outputs": [],
   "source": [
    "def timeofservice(data):\n",
    "    data.Time_of_service.fillna('NaN', inplace=True)\n",
    "    t_sam = data.Time_of_service == 'NaN'\n",
    "    \n",
    "    data.Time_of_service[(t_sam) & (data.Age >= 19) & (data.Age < 30) & \n",
    "                        (data.Education_Level >= 1) & (data.Education_Level < 3)] = 5\n",
    "    data.Time_of_service[(t_sam) & (data.Age >= 19) & (data.Age < 30) & \n",
    "                        (data.Education_Level >= 3) & (data.Education_Level < 5)] = 3\n",
    "    data.Time_of_service[(t_sam) & (data.Age >= 19) & (data.Age < 30) & \n",
    "                        (data.Education_Level >= 5) & (data.Education_Level < 6)] = 2\n",
    "    \n",
    "    data.Time_of_service[(t_sam) & (data.Age >= 30) & (data.Age < 40) & \n",
    "                        (data.Education_Level >= 1) & (data.Education_Level < 3)] = 12\n",
    "    data.Time_of_service[(t_sam) & (data.Age >= 30) & (data.Age < 40) & \n",
    "                        (data.Education_Level >= 3) & (data.Education_Level < 5)] = 10\n",
    "    data.Time_of_service[(t_sam) & (data.Age >= 30) & (data.Age < 40) & \n",
    "                        (data.Education_Level >= 5) & (data.Education_Level < 6)] = 9\n",
    "    \n",
    "    data.Time_of_service[(t_sam) & (data.Age >= 40) & (data.Age < 55) & \n",
    "                        (data.Education_Level >= 1) & (data.Education_Level < 3)] = 24\n",
    "    data.Time_of_service[(t_sam) & (data.Age >= 40) & (data.Age < 55) & \n",
    "                        (data.Education_Level >= 3) & (data.Education_Level < 5)] = 20\n",
    "    data.Time_of_service[(t_sam) & (data.Age >= 40) & (data.Age < 55) & \n",
    "                        (data.Education_Level >= 5) & (data.Education_Level < 6)] = 18\n",
    "    \n",
    "    data.Time_of_service[(t_sam) & (data.Age >= 55) & (data.Age < 66) & \n",
    "                        (data.Education_Level >= 1) & (data.Education_Level < 3)] = 38\n",
    "    data.Time_of_service[(t_sam) & (data.Age >= 55) & (data.Age < 66) & \n",
    "                        (data.Education_Level >= 3) & (data.Education_Level < 5)] = 35\n",
    "    data.Time_of_service[(t_sam) & (data.Age >= 55) & (data.Age < 66) & \n",
    "                        (data.Education_Level >= 5) & (data.Education_Level < 6)] = 32\n",
    "\n",
    "timeofservice(data)\n",
    "\n",
    "data.Time_of_service = pd.to_numeric(data.Time_of_service, errors='coerce')"
   ]
  },
  {
   "cell_type": "code",
   "execution_count": 1817,
   "metadata": {},
   "outputs": [],
   "source": [
    "data.Pay_Scale.fillna(8, inplace=True)\n",
    "data.Work_Life_balance.fillna(1, inplace=True)\n",
    "data.VAR2.fillna(0.7516, inplace=True)\n",
    "data.VAR4.fillna(2, inplace=True)"
   ]
  },
  {
   "cell_type": "code",
   "execution_count": null,
   "metadata": {},
   "outputs": [],
   "source": []
  },
  {
   "cell_type": "code",
   "execution_count": null,
   "metadata": {},
   "outputs": [],
   "source": []
  },
  {
   "cell_type": "code",
   "execution_count": null,
   "metadata": {},
   "outputs": [],
   "source": []
  },
  {
   "cell_type": "markdown",
   "metadata": {},
   "source": [
    "# Data Preprocessing"
   ]
  },
  {
   "cell_type": "code",
   "execution_count": 1818,
   "metadata": {},
   "outputs": [],
   "source": [
    "def typ(s):\n",
    "    if s == 'type0':\n",
    "        return 1\n",
    "    elif s == 'type1':\n",
    "        return 2\n",
    "    elif s == 'type2':\n",
    "        return 3\n",
    "    elif s == 'type3':\n",
    "        return 4\n",
    "    elif s == 'type4':\n",
    "        return 5\n",
    "    elif s == 'type5':\n",
    "        return 6\n",
    "\n",
    "data.Compensation_and_Benefits = data.Compensation_and_Benefits.apply(typ)"
   ]
  },
  {
   "cell_type": "markdown",
   "metadata": {},
   "source": [
    "## Feature Generation"
   ]
  },
  {
   "cell_type": "code",
   "execution_count": null,
   "metadata": {},
   "outputs": [],
   "source": []
  },
  {
   "cell_type": "code",
   "execution_count": null,
   "metadata": {},
   "outputs": [],
   "source": []
  },
  {
   "cell_type": "code",
   "execution_count": null,
   "metadata": {},
   "outputs": [],
   "source": []
  },
  {
   "cell_type": "code",
   "execution_count": null,
   "metadata": {},
   "outputs": [],
   "source": []
  },
  {
   "cell_type": "code",
   "execution_count": null,
   "metadata": {},
   "outputs": [],
   "source": []
  },
  {
   "cell_type": "code",
   "execution_count": null,
   "metadata": {},
   "outputs": [],
   "source": []
  },
  {
   "cell_type": "code",
   "execution_count": 1819,
   "metadata": {},
   "outputs": [],
   "source": [
    "data['value'] = ((data.Education_Level * data.Time_of_service) + data.Pay_Scale) / data.Age\n",
    "data['some_rate'] = (data.growth_rate * data.Time_of_service) / 100\n",
    "data['Total_earning'] = data.Pay_Scale * data.Time_of_service \n",
    "data['balance'] = (data.Compensation_and_Benefits * data.Pay_Scale) / (data.Post_Level * (data.Travel_Rate+1))\n",
    "#data['Post_Pay'] = data.Post_Level * data.Pay_Scale\n",
    "#data['Without_promotion'] = data.Time_of_service - data.Time_since_promotion\n"
   ]
  },
  {
   "cell_type": "markdown",
   "metadata": {},
   "source": [
    "## VAR2 and VAR3"
   ]
  },
  {
   "cell_type": "code",
   "execution_count": 1820,
   "metadata": {},
   "outputs": [
    {
     "data": {
      "text/plain": [
       "array([0.8564, 0.8564, 0.8564, 0.8565])"
      ]
     },
     "execution_count": 1820,
     "metadata": {},
     "output_type": "execute_result"
    }
   ],
   "source": [
    "VAR2 = data.VAR2.unique()\n",
    "VAR2_sorted = np.sort(VAR2)\n",
    "                           \n",
    "np.diff(VAR2_sorted)"
   ]
  },
  {
   "cell_type": "code",
   "execution_count": 1821,
   "metadata": {},
   "outputs": [
    {
     "data": {
      "text/plain": [
       "array([1.        , 1.        , 1.        , 1.00011677])"
      ]
     },
     "execution_count": 1821,
     "metadata": {},
     "output_type": "execute_result"
    }
   ],
   "source": [
    "np.diff(VAR2_sorted/0.8564)"
   ]
  },
  {
   "cell_type": "code",
   "execution_count": 1822,
   "metadata": {},
   "outputs": [],
   "source": [
    "data.VAR2= (data.VAR2/0.8564 - .122373).round() + 3"
   ]
  },
  {
   "cell_type": "code",
   "execution_count": 1823,
   "metadata": {},
   "outputs": [
    {
     "data": {
      "text/plain": [
       "4.0    4376\n",
       "3.0    2288\n",
       "2.0    1469\n",
       "1.0    1173\n",
       "5.0     694\n",
       "Name: VAR2, dtype: int64"
      ]
     },
     "execution_count": 1823,
     "metadata": {},
     "output_type": "execute_result"
    }
   ],
   "source": [
    "data.VAR2.value_counts()"
   ]
  },
  {
   "cell_type": "code",
   "execution_count": null,
   "metadata": {},
   "outputs": [],
   "source": []
  },
  {
   "cell_type": "code",
   "execution_count": 1824,
   "metadata": {},
   "outputs": [
    {
     "data": {
      "text/plain": [
       "array([1.1612, 1.1613, 1.1612, 1.1613])"
      ]
     },
     "execution_count": 1824,
     "metadata": {},
     "output_type": "execute_result"
    }
   ],
   "source": [
    "VAR3 = data.VAR3.unique()\n",
    "VAR3_sorted = np.sort(VAR3)\n",
    "                           \n",
    "np.diff(VAR3_sorted)"
   ]
  },
  {
   "cell_type": "code",
   "execution_count": 1825,
   "metadata": {},
   "outputs": [],
   "source": [
    "data.VAR3 = (data.VAR3/1.1612 - .609370).round() + 4"
   ]
  },
  {
   "cell_type": "code",
   "execution_count": 1826,
   "metadata": {},
   "outputs": [
    {
     "data": {
      "text/plain": [
       "3.0    4755\n",
       "4.0    3362\n",
       "5.0     888\n",
       "2.0     709\n",
       "1.0     286\n",
       "Name: VAR3, dtype: int64"
      ]
     },
     "execution_count": 1826,
     "metadata": {},
     "output_type": "execute_result"
    }
   ],
   "source": [
    "data.VAR3.value_counts()"
   ]
  },
  {
   "cell_type": "markdown",
   "metadata": {},
   "source": [
    "## Frequency Encoding"
   ]
  },
  {
   "cell_type": "code",
   "execution_count": 1827,
   "metadata": {},
   "outputs": [],
   "source": [
    "def frequency_encoding(data, col):\n",
    "    encoding = data.groupby(col).size()\n",
    "    encoding = encoding / len(data)\n",
    "    final = 'enc_' + col\n",
    "    data[final] = data[col].map(encoding)\n",
    "    \n",
    "    data.drop(col, axis=1, inplace=True)\n",
    "    \n",
    "    return encoding"
   ]
  },
  {
   "cell_type": "markdown",
   "metadata": {},
   "source": [
    "### Gender"
   ]
  },
  {
   "cell_type": "code",
   "execution_count": 1828,
   "metadata": {},
   "outputs": [
    {
     "data": {
      "text/plain": [
       "Gender\n",
       "F    0.5842\n",
       "M    0.4158\n",
       "dtype: float64"
      ]
     },
     "execution_count": 1828,
     "metadata": {},
     "output_type": "execute_result"
    }
   ],
   "source": [
    "frequency_encoding(data, 'Gender')"
   ]
  },
  {
   "cell_type": "markdown",
   "metadata": {},
   "source": [
    "### Relationship_Status"
   ]
  },
  {
   "cell_type": "code",
   "execution_count": 1829,
   "metadata": {},
   "outputs": [
    {
     "data": {
      "text/plain": [
       "Relationship_Status\n",
       "Married    0.6461\n",
       "Single     0.3539\n",
       "dtype: float64"
      ]
     },
     "execution_count": 1829,
     "metadata": {},
     "output_type": "execute_result"
    }
   ],
   "source": [
    "frequency_encoding(data, 'Relationship_Status')"
   ]
  },
  {
   "cell_type": "markdown",
   "metadata": {},
   "source": [
    "### Unit"
   ]
  },
  {
   "cell_type": "code",
   "execution_count": 1830,
   "metadata": {},
   "outputs": [
    {
     "data": {
      "text/plain": [
       "Unit\n",
       "Accounting and Finance       0.0679\n",
       "Human Resource Management    0.0513\n",
       "IT                           0.1963\n",
       "Logistics                    0.1648\n",
       "Marketing                    0.0319\n",
       "Operarions                   0.1008\n",
       "Production                   0.0292\n",
       "Purchasing                   0.0714\n",
       "Quality                      0.0290\n",
       "R&D                          0.0991\n",
       "Sales                        0.1389\n",
       "Security                     0.0194\n",
       "dtype: float64"
      ]
     },
     "execution_count": 1830,
     "metadata": {},
     "output_type": "execute_result"
    }
   ],
   "source": [
    "frequency_encoding(data, 'Unit')"
   ]
  },
  {
   "cell_type": "markdown",
   "metadata": {},
   "source": [
    "### Hometown"
   ]
  },
  {
   "cell_type": "code",
   "execution_count": 1831,
   "metadata": {},
   "outputs": [
    {
     "data": {
      "text/plain": [
       "Hometown\n",
       "Clinton        0.0812\n",
       "Franklin       0.2181\n",
       "Lebanon        0.2953\n",
       "Springfield    0.2484\n",
       "Washington     0.1570\n",
       "dtype: float64"
      ]
     },
     "execution_count": 1831,
     "metadata": {},
     "output_type": "execute_result"
    }
   ],
   "source": [
    "frequency_encoding(data, 'Hometown')"
   ]
  },
  {
   "cell_type": "markdown",
   "metadata": {},
   "source": [
    "### Decision_skill_possess"
   ]
  },
  {
   "cell_type": "code",
   "execution_count": 1832,
   "metadata": {},
   "outputs": [
    {
     "data": {
      "text/plain": [
       "Decision_skill_possess\n",
       "Analytical    0.2501\n",
       "Behavioral    0.2535\n",
       "Conceptual    0.2476\n",
       "Directive     0.2488\n",
       "dtype: float64"
      ]
     },
     "execution_count": 1832,
     "metadata": {},
     "output_type": "execute_result"
    }
   ],
   "source": [
    "frequency_encoding(data, 'Decision_skill_possess')"
   ]
  },
  {
   "cell_type": "markdown",
   "metadata": {},
   "source": [
    "### Education Level"
   ]
  },
  {
   "cell_type": "code",
   "execution_count": 1833,
   "metadata": {},
   "outputs": [
    {
     "data": {
      "text/plain": [
       "Education_Level\n",
       "1    0.0979\n",
       "2    0.0982\n",
       "3    0.4063\n",
       "4    0.3018\n",
       "5    0.0958\n",
       "dtype: float64"
      ]
     },
     "execution_count": 1833,
     "metadata": {},
     "output_type": "execute_result"
    }
   ],
   "source": [
    "frequency_encoding(data, 'Education_Level')"
   ]
  },
  {
   "cell_type": "markdown",
   "metadata": {},
   "source": [
    "### Travel_Rate"
   ]
  },
  {
   "cell_type": "code",
   "execution_count": 1834,
   "metadata": {},
   "outputs": [
    {
     "data": {
      "text/plain": [
       "Travel_Rate\n",
       "0    0.3147\n",
       "1    0.5499\n",
       "2    0.1354\n",
       "dtype: float64"
      ]
     },
     "execution_count": 1834,
     "metadata": {},
     "output_type": "execute_result"
    }
   ],
   "source": [
    "frequency_encoding(data, 'Travel_Rate')"
   ]
  },
  {
   "cell_type": "markdown",
   "metadata": {},
   "source": [
    "### Compensation_and_Benefits"
   ]
  },
  {
   "cell_type": "code",
   "execution_count": 1835,
   "metadata": {},
   "outputs": [
    {
     "data": {
      "text/plain": [
       "Compensation_and_Benefits\n",
       "1    0.0280\n",
       "2    0.0198\n",
       "3    0.5686\n",
       "4    0.3346\n",
       "5    0.0490\n",
       "dtype: float64"
      ]
     },
     "execution_count": 1835,
     "metadata": {},
     "output_type": "execute_result"
    }
   ],
   "source": [
    "frequency_encoding(data, 'Compensation_and_Benefits')"
   ]
  },
  {
   "cell_type": "markdown",
   "metadata": {},
   "source": [
    "### Work_Life_balance"
   ]
  },
  {
   "cell_type": "code",
   "execution_count": 1836,
   "metadata": {},
   "outputs": [
    {
     "data": {
      "text/plain": [
       "Work_Life_balance\n",
       "1.0    0.2967\n",
       "2.0    0.2287\n",
       "3.0    0.2858\n",
       "4.0    0.1719\n",
       "5.0    0.0169\n",
       "dtype: float64"
      ]
     },
     "execution_count": 1836,
     "metadata": {},
     "output_type": "execute_result"
    }
   ],
   "source": [
    "frequency_encoding(data, 'Work_Life_balance')"
   ]
  },
  {
   "cell_type": "markdown",
   "metadata": {},
   "source": [
    "## Age Binning"
   ]
  },
  {
   "cell_type": "code",
   "execution_count": 1837,
   "metadata": {},
   "outputs": [],
   "source": [
    "bins=[18,30,40,50,60,76]\n",
    "group=[1,2,3,4,5]\n",
    "data['age_category']=pd.cut(data['Age'], bins, labels=group)"
   ]
  },
  {
   "cell_type": "code",
   "execution_count": 1838,
   "metadata": {},
   "outputs": [
    {
     "data": {
      "text/plain": [
       "age_category\n",
       "1    0.3152\n",
       "2    0.2006\n",
       "3    0.1894\n",
       "4    0.2273\n",
       "5    0.0675\n",
       "dtype: float64"
      ]
     },
     "execution_count": 1838,
     "metadata": {},
     "output_type": "execute_result"
    }
   ],
   "source": [
    "frequency_encoding(data, 'age_category')"
   ]
  },
  {
   "cell_type": "markdown",
   "metadata": {},
   "source": [
    "## VAR 1 through 7"
   ]
  },
  {
   "cell_type": "code",
   "execution_count": 1839,
   "metadata": {},
   "outputs": [
    {
     "data": {
      "text/plain": [
       "VAR7\n",
       "1    0.0412\n",
       "2    0.0899\n",
       "3    0.5619\n",
       "4    0.1921\n",
       "5    0.1149\n",
       "dtype: float64"
      ]
     },
     "execution_count": 1839,
     "metadata": {},
     "output_type": "execute_result"
    }
   ],
   "source": [
    "frequency_encoding(data, 'VAR1')\n",
    "frequency_encoding(data, 'VAR2')\n",
    "frequency_encoding(data, 'VAR3')\n",
    "frequency_encoding(data, 'VAR4')\n",
    "frequency_encoding(data, 'VAR5')\n",
    "frequency_encoding(data, 'VAR6')\n",
    "frequency_encoding(data, 'VAR7')"
   ]
  },
  {
   "cell_type": "code",
   "execution_count": null,
   "metadata": {},
   "outputs": [],
   "source": []
  },
  {
   "cell_type": "code",
   "execution_count": null,
   "metadata": {},
   "outputs": [],
   "source": []
  },
  {
   "cell_type": "code",
   "execution_count": null,
   "metadata": {},
   "outputs": [],
   "source": []
  },
  {
   "cell_type": "markdown",
   "metadata": {},
   "source": [
    "# Data Transformation"
   ]
  },
  {
   "cell_type": "code",
   "execution_count": 1840,
   "metadata": {},
   "outputs": [],
   "source": [
    "data.Time_of_service = np.log(data.Time_of_service+1)\n",
    "data.value = data.value.apply(np.log)\n",
    "data.some_rate = np.log(data.some_rate+1)\n",
    "data.Total_earning = data.Total_earning.apply(np.sqrt)"
   ]
  },
  {
   "cell_type": "markdown",
   "metadata": {},
   "source": [
    "# Data Scaling"
   ]
  },
  {
   "cell_type": "code",
   "execution_count": 1841,
   "metadata": {},
   "outputs": [
    {
     "data": {
      "text/html": [
       "<div>\n",
       "<style scoped>\n",
       "    .dataframe tbody tr th:only-of-type {\n",
       "        vertical-align: middle;\n",
       "    }\n",
       "\n",
       "    .dataframe tbody tr th {\n",
       "        vertical-align: top;\n",
       "    }\n",
       "\n",
       "    .dataframe thead th {\n",
       "        text-align: right;\n",
       "    }\n",
       "</style>\n",
       "<table border=\"1\" class=\"dataframe\">\n",
       "  <thead>\n",
       "    <tr style=\"text-align: right;\">\n",
       "      <th></th>\n",
       "      <th>Age</th>\n",
       "      <th>Time_of_service</th>\n",
       "      <th>Time_since_promotion</th>\n",
       "      <th>growth_rate</th>\n",
       "      <th>Post_Level</th>\n",
       "      <th>Pay_Scale</th>\n",
       "      <th>value</th>\n",
       "      <th>some_rate</th>\n",
       "      <th>Total_earning</th>\n",
       "      <th>balance</th>\n",
       "      <th>...</th>\n",
       "      <th>enc_VAR5 * Total_earning</th>\n",
       "      <th>enc_Compensation_and_Benefits * enc_VAR7</th>\n",
       "      <th>balance * enc_VAR1</th>\n",
       "      <th>enc_Education_Level * enc_Gender</th>\n",
       "      <th>enc_VAR5 * some_rate</th>\n",
       "      <th>enc_Education_Level * enc_VAR6</th>\n",
       "      <th>enc_Gender * enc_VAR3</th>\n",
       "      <th>enc_age_category * enc_Relationship_Status</th>\n",
       "      <th>enc_Compensation_and_Benefits * enc_Education_Level</th>\n",
       "      <th>enc_Hometown * enc_Unit</th>\n",
       "    </tr>\n",
       "    <tr>\n",
       "      <th>index</th>\n",
       "      <th></th>\n",
       "      <th></th>\n",
       "      <th></th>\n",
       "      <th></th>\n",
       "      <th></th>\n",
       "      <th></th>\n",
       "      <th></th>\n",
       "      <th></th>\n",
       "      <th></th>\n",
       "      <th></th>\n",
       "      <th></th>\n",
       "      <th></th>\n",
       "      <th></th>\n",
       "      <th></th>\n",
       "      <th></th>\n",
       "      <th></th>\n",
       "      <th></th>\n",
       "      <th></th>\n",
       "      <th></th>\n",
       "      <th></th>\n",
       "      <th></th>\n",
       "    </tr>\n",
       "  </thead>\n",
       "  <tbody>\n",
       "    <tr>\n",
       "      <th>0</th>\n",
       "      <td>42.0</td>\n",
       "      <td>1.609438</td>\n",
       "      <td>4</td>\n",
       "      <td>33</td>\n",
       "      <td>1</td>\n",
       "      <td>7.0</td>\n",
       "      <td>-0.602175</td>\n",
       "      <td>0.841567</td>\n",
       "      <td>5.291503</td>\n",
       "      <td>10.500000</td>\n",
       "      <td>...</td>\n",
       "      <td>1.096928</td>\n",
       "      <td>0.319496</td>\n",
       "      <td>2.03805</td>\n",
       "      <td>0.176312</td>\n",
       "      <td>0.174457</td>\n",
       "      <td>0.038721</td>\n",
       "      <td>0.051877</td>\n",
       "      <td>0.122371</td>\n",
       "      <td>0.171603</td>\n",
       "      <td>0.042813</td>\n",
       "    </tr>\n",
       "    <tr>\n",
       "      <th>1</th>\n",
       "      <td>24.0</td>\n",
       "      <td>1.791759</td>\n",
       "      <td>4</td>\n",
       "      <td>36</td>\n",
       "      <td>3</td>\n",
       "      <td>6.0</td>\n",
       "      <td>-0.133531</td>\n",
       "      <td>1.029619</td>\n",
       "      <td>5.477226</td>\n",
       "      <td>6.000000</td>\n",
       "      <td>...</td>\n",
       "      <td>2.150359</td>\n",
       "      <td>0.319496</td>\n",
       "      <td>3.61500</td>\n",
       "      <td>0.168940</td>\n",
       "      <td>0.404229</td>\n",
       "      <td>0.052128</td>\n",
       "      <td>0.197713</td>\n",
       "      <td>0.111549</td>\n",
       "      <td>0.231022</td>\n",
       "      <td>0.040936</td>\n",
       "    </tr>\n",
       "    <tr>\n",
       "      <th>2</th>\n",
       "      <td>58.0</td>\n",
       "      <td>3.332205</td>\n",
       "      <td>3</td>\n",
       "      <td>51</td>\n",
       "      <td>2</td>\n",
       "      <td>8.0</td>\n",
       "      <td>0.428193</td>\n",
       "      <td>2.692598</td>\n",
       "      <td>14.696938</td>\n",
       "      <td>12.000000</td>\n",
       "      <td>...</td>\n",
       "      <td>5.770018</td>\n",
       "      <td>0.319496</td>\n",
       "      <td>2.32920</td>\n",
       "      <td>0.237360</td>\n",
       "      <td>1.057114</td>\n",
       "      <td>0.154760</td>\n",
       "      <td>0.277787</td>\n",
       "      <td>0.146859</td>\n",
       "      <td>0.231022</td>\n",
       "      <td>0.002355</td>\n",
       "    </tr>\n",
       "    <tr>\n",
       "      <th>3</th>\n",
       "      <td>26.0</td>\n",
       "      <td>1.609438</td>\n",
       "      <td>3</td>\n",
       "      <td>56</td>\n",
       "      <td>3</td>\n",
       "      <td>8.0</td>\n",
       "      <td>-0.262364</td>\n",
       "      <td>1.175573</td>\n",
       "      <td>5.656854</td>\n",
       "      <td>4.000000</td>\n",
       "      <td>...</td>\n",
       "      <td>2.220881</td>\n",
       "      <td>0.319496</td>\n",
       "      <td>2.41000</td>\n",
       "      <td>0.237360</td>\n",
       "      <td>0.461530</td>\n",
       "      <td>0.101941</td>\n",
       "      <td>0.277787</td>\n",
       "      <td>0.111549</td>\n",
       "      <td>0.231022</td>\n",
       "      <td>0.015149</td>\n",
       "    </tr>\n",
       "    <tr>\n",
       "      <th>4</th>\n",
       "      <td>31.0</td>\n",
       "      <td>1.791759</td>\n",
       "      <td>4</td>\n",
       "      <td>62</td>\n",
       "      <td>3</td>\n",
       "      <td>2.0</td>\n",
       "      <td>-1.488077</td>\n",
       "      <td>1.410987</td>\n",
       "      <td>3.162278</td>\n",
       "      <td>1.333333</td>\n",
       "      <td>...</td>\n",
       "      <td>0.946470</td>\n",
       "      <td>0.030081</td>\n",
       "      <td>0.06800</td>\n",
       "      <td>0.057193</td>\n",
       "      <td>0.422308</td>\n",
       "      <td>0.037290</td>\n",
       "      <td>0.277787</td>\n",
       "      <td>0.129608</td>\n",
       "      <td>0.032757</td>\n",
       "      <td>0.040936</td>\n",
       "    </tr>\n",
       "  </tbody>\n",
       "</table>\n",
       "<p>5 rows × 729 columns</p>\n",
       "</div>"
      ],
      "text/plain": [
       "        Age  Time_of_service  Time_since_promotion  growth_rate  Post_Level  \\\n",
       "index                                                                         \n",
       "0      42.0         1.609438                     4           33           1   \n",
       "1      24.0         1.791759                     4           36           3   \n",
       "2      58.0         3.332205                     3           51           2   \n",
       "3      26.0         1.609438                     3           56           3   \n",
       "4      31.0         1.791759                     4           62           3   \n",
       "\n",
       "       Pay_Scale     value  some_rate  Total_earning    balance  ...  \\\n",
       "index                                                            ...   \n",
       "0            7.0 -0.602175   0.841567       5.291503  10.500000  ...   \n",
       "1            6.0 -0.133531   1.029619       5.477226   6.000000  ...   \n",
       "2            8.0  0.428193   2.692598      14.696938  12.000000  ...   \n",
       "3            8.0 -0.262364   1.175573       5.656854   4.000000  ...   \n",
       "4            2.0 -1.488077   1.410987       3.162278   1.333333  ...   \n",
       "\n",
       "       enc_VAR5 * Total_earning  enc_Compensation_and_Benefits * enc_VAR7  \\\n",
       "index                                                                       \n",
       "0                      1.096928                                  0.319496   \n",
       "1                      2.150359                                  0.319496   \n",
       "2                      5.770018                                  0.319496   \n",
       "3                      2.220881                                  0.319496   \n",
       "4                      0.946470                                  0.030081   \n",
       "\n",
       "       balance * enc_VAR1  enc_Education_Level * enc_Gender  \\\n",
       "index                                                         \n",
       "0                 2.03805                          0.176312   \n",
       "1                 3.61500                          0.168940   \n",
       "2                 2.32920                          0.237360   \n",
       "3                 2.41000                          0.237360   \n",
       "4                 0.06800                          0.057193   \n",
       "\n",
       "       enc_VAR5 * some_rate  enc_Education_Level * enc_VAR6  \\\n",
       "index                                                         \n",
       "0                  0.174457                        0.038721   \n",
       "1                  0.404229                        0.052128   \n",
       "2                  1.057114                        0.154760   \n",
       "3                  0.461530                        0.101941   \n",
       "4                  0.422308                        0.037290   \n",
       "\n",
       "       enc_Gender * enc_VAR3  enc_age_category * enc_Relationship_Status  \\\n",
       "index                                                                      \n",
       "0                   0.051877                                    0.122371   \n",
       "1                   0.197713                                    0.111549   \n",
       "2                   0.277787                                    0.146859   \n",
       "3                   0.277787                                    0.111549   \n",
       "4                   0.277787                                    0.129608   \n",
       "\n",
       "       enc_Compensation_and_Benefits * enc_Education_Level  \\\n",
       "index                                                        \n",
       "0                                               0.171603     \n",
       "1                                               0.231022     \n",
       "2                                               0.231022     \n",
       "3                                               0.231022     \n",
       "4                                               0.032757     \n",
       "\n",
       "       enc_Hometown * enc_Unit  \n",
       "index                           \n",
       "0                     0.042813  \n",
       "1                     0.040936  \n",
       "2                     0.002355  \n",
       "3                     0.015149  \n",
       "4                     0.040936  \n",
       "\n",
       "[5 rows x 729 columns]"
      ]
     },
     "execution_count": 1841,
     "metadata": {},
     "output_type": "execute_result"
    }
   ],
   "source": [
    "es = ft.EntitySet(id = 'attrition')\n",
    "features = data.copy()\n",
    "es.entity_from_dataframe(entity_id = 'data_1', dataframe = features, \n",
    "                         make_index = True, index = 'index')\n",
    "\n",
    "feature_matrix, feature_defs = ft.dfs(entityset = es, target_entity = 'data_1', max_depth=1,\n",
    "                                      trans_primitives = ['add_numeric', 'multiply_numeric'])\n",
    "\n",
    "feature_matrix.head()"
   ]
  },
  {
   "cell_type": "code",
   "execution_count": 1842,
   "metadata": {},
   "outputs": [],
   "source": [
    "'''idx = data.columns\n",
    "\n",
    "scaler = StandardScaler()\n",
    "scaled_data = scaler.fit_transform(data)\n",
    "scaled_data = pd.DataFrame(scaled_data, columns=idx)\n",
    "\n",
    "copy_scaled_data = scaled_data.copy()\n",
    "train_final = copy_scaled_data[0:7000]\n",
    "test_final = copy_scaled_data[7000:]\n",
    "'''\n",
    "'''idx = data.columns\n",
    "scaler = MinMaxScaler()\n",
    "scaled_data = scaler.fit_transform(data)\n",
    "scaled_data = pd.DataFrame(scaled_data, columns=idx)\n",
    "copy_scaled_data = scaled_data.copy()\n",
    "train_final = copy_scaled_data[0:7000]\n",
    "test_final = copy_scaled_data[7000:]'''\n",
    "\n",
    "idx = feature_matrix.columns\n",
    "scaler = MinMaxScaler()\n",
    "scaled_data = scaler.fit_transform(feature_matrix)\n",
    "scaled_data = pd.DataFrame(scaled_data, columns=idx)\n",
    "copy_scaled_data = scaled_data.copy()\n",
    "train_final = copy_scaled_data[0:7000]\n",
    "test_final = copy_scaled_data[7000:]"
   ]
  },
  {
   "cell_type": "code",
   "execution_count": 1843,
   "metadata": {},
   "outputs": [
    {
     "data": {
      "text/plain": [
       "True"
      ]
     },
     "execution_count": 1843,
     "metadata": {},
     "output_type": "execute_result"
    }
   ],
   "source": [
    "len(train) == len(train_final) == len(y)"
   ]
  },
  {
   "cell_type": "markdown",
   "metadata": {},
   "source": [
    "# Neural Network Model"
   ]
  },
  {
   "cell_type": "code",
   "execution_count": 1079,
   "metadata": {},
   "outputs": [],
   "source": [
    "network = models.Sequential()\n",
    "network.add(layers.Dense(70, activation='relu', input_dim=27))\n",
    "network.add(layers.Dense(70, activation='relu'))\n",
    "network.add(layers.Dense(70, activation='relu'))\n",
    "network.add(layers.Dense(70, activation='relu'))\n",
    "network.add(layers.Dense(1)) "
   ]
  },
  {
   "cell_type": "code",
   "execution_count": 1080,
   "metadata": {},
   "outputs": [],
   "source": [
    "network.compile(optimizer='adam',\n",
    "                loss='mean_squared_error',\n",
    "                metrics=['accuracy'])"
   ]
  },
  {
   "cell_type": "code",
   "execution_count": 1081,
   "metadata": {},
   "outputs": [
    {
     "name": "stdout",
     "output_type": "stream",
     "text": [
      "Model: \"sequential_31\"\n",
      "_________________________________________________________________\n",
      "Layer (type)                 Output Shape              Param #   \n",
      "=================================================================\n",
      "dense_134 (Dense)            (None, 70)                1960      \n",
      "_________________________________________________________________\n",
      "dense_135 (Dense)            (None, 70)                4970      \n",
      "_________________________________________________________________\n",
      "dense_136 (Dense)            (None, 70)                4970      \n",
      "_________________________________________________________________\n",
      "dense_137 (Dense)            (None, 70)                4970      \n",
      "_________________________________________________________________\n",
      "dense_138 (Dense)            (None, 1)                 71        \n",
      "=================================================================\n",
      "Total params: 16,941\n",
      "Trainable params: 16,941\n",
      "Non-trainable params: 0\n",
      "_________________________________________________________________\n"
     ]
    }
   ],
   "source": [
    "network.summary()"
   ]
  },
  {
   "cell_type": "code",
   "execution_count": 1082,
   "metadata": {},
   "outputs": [
    {
     "name": "stdout",
     "output_type": "stream",
     "text": [
      "Epoch 1/200\n",
      "7000/7000 [==============================] - 0s 60us/step - loss: 0.0419 - accuracy: 5.7143e-04\n",
      "Epoch 2/200\n",
      "7000/7000 [==============================] - 0s 33us/step - loss: 0.0345 - accuracy: 5.7143e-04\n",
      "Epoch 3/200\n",
      "7000/7000 [==============================] - 0s 32us/step - loss: 0.0331 - accuracy: 5.7143e-04\n",
      "Epoch 4/200\n",
      "7000/7000 [==============================] - 0s 31us/step - loss: 0.0319 - accuracy: 5.7143e-04\n",
      "Epoch 5/200\n",
      "7000/7000 [==============================] - 0s 31us/step - loss: 0.0311 - accuracy: 5.7143e-04\n",
      "Epoch 6/200\n",
      "7000/7000 [==============================] - 0s 31us/step - loss: 0.0297 - accuracy: 5.7143e-04\n",
      "Epoch 7/200\n",
      "7000/7000 [==============================] - 0s 32us/step - loss: 0.0283 - accuracy: 5.7143e-04\n",
      "Epoch 8/200\n",
      "7000/7000 [==============================] - 0s 33us/step - loss: 0.0268 - accuracy: 5.7143e-04\n",
      "Epoch 9/200\n",
      "7000/7000 [==============================] - 0s 32us/step - loss: 0.0250 - accuracy: 5.7143e-04\n",
      "Epoch 10/200\n",
      "7000/7000 [==============================] - 0s 31us/step - loss: 0.0239 - accuracy: 5.7143e-04\n",
      "Epoch 11/200\n",
      "7000/7000 [==============================] - 0s 31us/step - loss: 0.0220 - accuracy: 5.7143e-04\n",
      "Epoch 12/200\n",
      "7000/7000 [==============================] - 0s 31us/step - loss: 0.0201 - accuracy: 5.7143e-04\n",
      "Epoch 13/200\n",
      "7000/7000 [==============================] - 0s 33us/step - loss: 0.0187 - accuracy: 5.7143e-04\n",
      "Epoch 14/200\n",
      "7000/7000 [==============================] - 0s 33us/step - loss: 0.0168 - accuracy: 5.7143e-04\n",
      "Epoch 15/200\n",
      "7000/7000 [==============================] - 0s 32us/step - loss: 0.0153 - accuracy: 5.7143e-04\n",
      "Epoch 16/200\n",
      "7000/7000 [==============================] - 0s 36us/step - loss: 0.0142 - accuracy: 5.7143e-04\n",
      "Epoch 17/200\n",
      "7000/7000 [==============================] - 0s 38us/step - loss: 0.0129 - accuracy: 5.7143e-04\n",
      "Epoch 18/200\n",
      "7000/7000 [==============================] - 0s 36us/step - loss: 0.0120 - accuracy: 5.7143e-04\n",
      "Epoch 19/200\n",
      "7000/7000 [==============================] - 0s 31us/step - loss: 0.0109 - accuracy: 5.7143e-04\n",
      "Epoch 20/200\n",
      "7000/7000 [==============================] - 0s 31us/step - loss: 0.0101 - accuracy: 5.7143e-04\n",
      "Epoch 21/200\n",
      "7000/7000 [==============================] - 0s 38us/step - loss: 0.0094 - accuracy: 5.7143e-04\n",
      "Epoch 22/200\n",
      "7000/7000 [==============================] - 0s 38us/step - loss: 0.0085 - accuracy: 5.7143e-04\n",
      "Epoch 23/200\n",
      "7000/7000 [==============================] - 0s 37us/step - loss: 0.0079 - accuracy: 5.7143e-04\n",
      "Epoch 24/200\n",
      "7000/7000 [==============================] - 0s 31us/step - loss: 0.0075 - accuracy: 5.7143e-04\n",
      "Epoch 25/200\n",
      "7000/7000 [==============================] - 0s 31us/step - loss: 0.0072 - accuracy: 5.7143e-04\n",
      "Epoch 26/200\n",
      "7000/7000 [==============================] - 0s 32us/step - loss: 0.0070 - accuracy: 5.7143e-04\n",
      "Epoch 27/200\n",
      "7000/7000 [==============================] - 0s 32us/step - loss: 0.0066 - accuracy: 5.7143e-04\n",
      "Epoch 28/200\n",
      "7000/7000 [==============================] - 0s 35us/step - loss: 0.0061 - accuracy: 5.7143e-04\n",
      "Epoch 29/200\n",
      "7000/7000 [==============================] - 0s 31us/step - loss: 0.0059 - accuracy: 5.7143e-04\n",
      "Epoch 30/200\n",
      "7000/7000 [==============================] - 0s 32us/step - loss: 0.0055 - accuracy: 5.7143e-04\n",
      "Epoch 31/200\n",
      "7000/7000 [==============================] - 0s 32us/step - loss: 0.0052 - accuracy: 5.7143e-04\n",
      "Epoch 32/200\n",
      "7000/7000 [==============================] - 0s 31us/step - loss: 0.0053 - accuracy: 5.7143e-04\n",
      "Epoch 33/200\n",
      "7000/7000 [==============================] - 0s 31us/step - loss: 0.0055 - accuracy: 5.7143e-04\n",
      "Epoch 34/200\n",
      "7000/7000 [==============================] - 0s 31us/step - loss: 0.0053 - accuracy: 5.7143e-04\n",
      "Epoch 35/200\n",
      "7000/7000 [==============================] - 0s 32us/step - loss: 0.0052 - accuracy: 5.7143e-04\n",
      "Epoch 36/200\n",
      "7000/7000 [==============================] - 0s 31us/step - loss: 0.0046 - accuracy: 5.7143e-04\n",
      "Epoch 37/200\n",
      "7000/7000 [==============================] - 0s 32us/step - loss: 0.0043 - accuracy: 5.7143e-04\n",
      "Epoch 38/200\n",
      "7000/7000 [==============================] - 0s 31us/step - loss: 0.0042 - accuracy: 5.7143e-04\n",
      "Epoch 39/200\n",
      "7000/7000 [==============================] - 0s 31us/step - loss: 0.0046 - accuracy: 5.7143e-04\n",
      "Epoch 40/200\n",
      "7000/7000 [==============================] - 0s 33us/step - loss: 0.0048 - accuracy: 5.7143e-04\n",
      "Epoch 41/200\n",
      "7000/7000 [==============================] - 0s 31us/step - loss: 0.0043 - accuracy: 5.7143e-04\n",
      "Epoch 42/200\n",
      "7000/7000 [==============================] - 0s 32us/step - loss: 0.0036 - accuracy: 5.7143e-04\n",
      "Epoch 43/200\n",
      "7000/7000 [==============================] - 0s 31us/step - loss: 0.0036 - accuracy: 5.7143e-04\n",
      "Epoch 44/200\n",
      "7000/7000 [==============================] - 0s 32us/step - loss: 0.0038 - accuracy: 5.7143e-04\n",
      "Epoch 45/200\n",
      "7000/7000 [==============================] - 0s 31us/step - loss: 0.0037 - accuracy: 5.7143e-04\n",
      "Epoch 46/200\n",
      "7000/7000 [==============================] - 0s 34us/step - loss: 0.0038 - accuracy: 5.7143e-04\n",
      "Epoch 47/200\n",
      "7000/7000 [==============================] - 0s 42us/step - loss: 0.0038 - accuracy: 5.7143e-04\n",
      "Epoch 48/200\n",
      "7000/7000 [==============================] - 0s 40us/step - loss: 0.0036 - accuracy: 5.7143e-04\n",
      "Epoch 49/200\n",
      "7000/7000 [==============================] - 0s 43us/step - loss: 0.0038 - accuracy: 5.7143e-04\n",
      "Epoch 50/200\n",
      "7000/7000 [==============================] - 0s 36us/step - loss: 0.0037 - accuracy: 5.7143e-04\n",
      "Epoch 51/200\n",
      "7000/7000 [==============================] - 0s 36us/step - loss: 0.0039 - accuracy: 5.7143e-04\n",
      "Epoch 52/200\n",
      "7000/7000 [==============================] - 0s 40us/step - loss: 0.0037 - accuracy: 5.7143e-04\n",
      "Epoch 53/200\n",
      "7000/7000 [==============================] - 0s 42us/step - loss: 0.0033 - accuracy: 5.7143e-04\n",
      "Epoch 54/200\n",
      "7000/7000 [==============================] - 0s 43us/step - loss: 0.0033 - accuracy: 5.7143e-04\n",
      "Epoch 55/200\n",
      "7000/7000 [==============================] - 0s 34us/step - loss: 0.0032 - accuracy: 5.7143e-04\n",
      "Epoch 56/200\n",
      "7000/7000 [==============================] - 0s 33us/step - loss: 0.0036 - accuracy: 5.7143e-04\n",
      "Epoch 57/200\n",
      "7000/7000 [==============================] - 0s 31us/step - loss: 0.0037 - accuracy: 5.7143e-04\n",
      "Epoch 58/200\n",
      "7000/7000 [==============================] - 0s 32us/step - loss: 0.0032 - accuracy: 5.7143e-04\n",
      "Epoch 59/200\n",
      "7000/7000 [==============================] - 0s 43us/step - loss: 0.0028 - accuracy: 5.7143e-04\n",
      "Epoch 60/200\n",
      "7000/7000 [==============================] - 0s 34us/step - loss: 0.0027 - accuracy: 5.7143e-04\n",
      "Epoch 61/200\n",
      "7000/7000 [==============================] - 0s 32us/step - loss: 0.0029 - accuracy: 5.7143e-04\n",
      "Epoch 62/200\n",
      "7000/7000 [==============================] - 0s 31us/step - loss: 0.0037 - accuracy: 5.7143e-04\n",
      "Epoch 63/200\n",
      "7000/7000 [==============================] - 0s 32us/step - loss: 0.0034 - accuracy: 5.7143e-04\n",
      "Epoch 64/200\n",
      "7000/7000 [==============================] - 0s 32us/step - loss: 0.0032 - accuracy: 5.7143e-04\n",
      "Epoch 65/200\n",
      "7000/7000 [==============================] - 0s 35us/step - loss: 0.0034 - accuracy: 5.7143e-04\n",
      "Epoch 66/200\n",
      "7000/7000 [==============================] - 0s 38us/step - loss: 0.0029 - accuracy: 5.7143e-04\n",
      "Epoch 67/200\n",
      "7000/7000 [==============================] - 0s 39us/step - loss: 0.0030 - accuracy: 5.7143e-04\n",
      "Epoch 68/200\n",
      "7000/7000 [==============================] - 0s 33us/step - loss: 0.0029 - accuracy: 5.7143e-04\n",
      "Epoch 69/200\n",
      "7000/7000 [==============================] - 0s 31us/step - loss: 0.0029 - accuracy: 5.7143e-04\n",
      "Epoch 70/200\n",
      "7000/7000 [==============================] - 0s 32us/step - loss: 0.0028 - accuracy: 5.7143e-04\n",
      "Epoch 71/200\n",
      "7000/7000 [==============================] - 0s 43us/step - loss: 0.0027 - accuracy: 5.7143e-04\n",
      "Epoch 72/200\n",
      "7000/7000 [==============================] - 0s 39us/step - loss: 0.0026 - accuracy: 5.7143e-04\n",
      "Epoch 73/200\n",
      "7000/7000 [==============================] - 0s 39us/step - loss: 0.0026 - accuracy: 5.7143e-04\n",
      "Epoch 74/200\n",
      "7000/7000 [==============================] - 0s 32us/step - loss: 0.0025 - accuracy: 5.7143e-04\n",
      "Epoch 75/200\n",
      "7000/7000 [==============================] - 0s 33us/step - loss: 0.0024 - accuracy: 5.7143e-04\n",
      "Epoch 76/200\n",
      "7000/7000 [==============================] - 0s 33us/step - loss: 0.0028 - accuracy: 5.7143e-04\n",
      "Epoch 77/200\n",
      "7000/7000 [==============================] - 0s 31us/step - loss: 0.0028 - accuracy: 5.7143e-04\n",
      "Epoch 78/200\n",
      "7000/7000 [==============================] - 0s 30us/step - loss: 0.0026 - accuracy: 5.7143e-04\n",
      "Epoch 79/200\n",
      "7000/7000 [==============================] - 0s 34us/step - loss: 0.0026 - accuracy: 5.7143e-04\n",
      "Epoch 80/200\n",
      "7000/7000 [==============================] - 0s 39us/step - loss: 0.0028 - accuracy: 5.7143e-04\n",
      "Epoch 81/200\n",
      "7000/7000 [==============================] - 0s 41us/step - loss: 0.0028 - accuracy: 5.7143e-04\n",
      "Epoch 82/200\n",
      "7000/7000 [==============================] - 0s 33us/step - loss: 0.0029 - accuracy: 5.7143e-04\n",
      "Epoch 83/200\n",
      "7000/7000 [==============================] - 0s 34us/step - loss: 0.0027 - accuracy: 5.7143e-04\n",
      "Epoch 84/200\n",
      "7000/7000 [==============================] - 0s 42us/step - loss: 0.0029 - accuracy: 5.7143e-04\n",
      "Epoch 85/200\n",
      "7000/7000 [==============================] - 0s 38us/step - loss: 0.0027 - accuracy: 5.7143e-04\n",
      "Epoch 86/200\n",
      "7000/7000 [==============================] - 0s 32us/step - loss: 0.0024 - accuracy: 5.7143e-04\n",
      "Epoch 87/200\n",
      "7000/7000 [==============================] - 0s 30us/step - loss: 0.0022 - accuracy: 5.7143e-04\n",
      "Epoch 88/200\n",
      "7000/7000 [==============================] - 0s 31us/step - loss: 0.0021 - accuracy: 5.7143e-04\n",
      "Epoch 89/200\n",
      "7000/7000 [==============================] - 0s 30us/step - loss: 0.0021 - accuracy: 5.7143e-04\n",
      "Epoch 90/200\n",
      "7000/7000 [==============================] - 0s 31us/step - loss: 0.0019 - accuracy: 5.7143e-04\n",
      "Epoch 91/200\n",
      "7000/7000 [==============================] - 0s 31us/step - loss: 0.0020 - accuracy: 5.7143e-04\n",
      "Epoch 92/200\n",
      "7000/7000 [==============================] - 0s 32us/step - loss: 0.0023 - accuracy: 5.7143e-04\n",
      "Epoch 93/200\n",
      "7000/7000 [==============================] - 0s 42us/step - loss: 0.0027 - accuracy: 5.7143e-04\n",
      "Epoch 94/200\n",
      "7000/7000 [==============================] - 0s 31us/step - loss: 0.0028 - accuracy: 5.7143e-04\n",
      "Epoch 95/200\n",
      "7000/7000 [==============================] - 0s 31us/step - loss: 0.0025 - accuracy: 5.7143e-04\n",
      "Epoch 96/200\n",
      "7000/7000 [==============================] - 0s 32us/step - loss: 0.0022 - accuracy: 5.7143e-04\n",
      "Epoch 97/200\n",
      "7000/7000 [==============================] - 0s 31us/step - loss: 0.0021 - accuracy: 5.7143e-04\n",
      "Epoch 98/200\n",
      "7000/7000 [==============================] - 0s 30us/step - loss: 0.0020 - accuracy: 5.7143e-04\n",
      "Epoch 99/200\n",
      "7000/7000 [==============================] - 0s 31us/step - loss: 0.0021 - accuracy: 5.7143e-04\n",
      "Epoch 100/200\n",
      "7000/7000 [==============================] - 0s 30us/step - loss: 0.0024 - accuracy: 5.7143e-04\n",
      "Epoch 101/200\n",
      "7000/7000 [==============================] - 0s 30us/step - loss: 0.0025 - accuracy: 5.7143e-04\n",
      "Epoch 102/200\n",
      "7000/7000 [==============================] - 0s 30us/step - loss: 0.0023 - accuracy: 5.7143e-04\n",
      "Epoch 103/200\n",
      "7000/7000 [==============================] - 0s 32us/step - loss: 0.0025 - accuracy: 5.7143e-04\n",
      "Epoch 104/200\n",
      "7000/7000 [==============================] - 0s 30us/step - loss: 0.0024 - accuracy: 5.7143e-04\n",
      "Epoch 105/200\n",
      "7000/7000 [==============================] - 0s 31us/step - loss: 0.0020 - accuracy: 5.7143e-04\n",
      "Epoch 106/200\n",
      "7000/7000 [==============================] - 0s 31us/step - loss: 0.0017 - accuracy: 5.7143e-04\n",
      "Epoch 107/200\n",
      "7000/7000 [==============================] - 0s 30us/step - loss: 0.0017 - accuracy: 5.7143e-04\n",
      "Epoch 108/200\n",
      "7000/7000 [==============================] - 0s 30us/step - loss: 0.0018 - accuracy: 5.7143e-04\n",
      "Epoch 109/200\n",
      "7000/7000 [==============================] - 0s 32us/step - loss: 0.0018 - accuracy: 5.7143e-04\n",
      "Epoch 110/200\n",
      "7000/7000 [==============================] - 0s 35us/step - loss: 0.0023 - accuracy: 5.7143e-04\n",
      "Epoch 111/200\n",
      "7000/7000 [==============================] - 0s 39us/step - loss: 0.0027 - accuracy: 5.7143e-04\n",
      "Epoch 112/200\n",
      "7000/7000 [==============================] - 0s 40us/step - loss: 0.0027 - accuracy: 5.7143e-04\n",
      "Epoch 113/200\n",
      "7000/7000 [==============================] - 0s 30us/step - loss: 0.0023 - accuracy: 5.7143e-04\n",
      "Epoch 114/200\n",
      "7000/7000 [==============================] - 0s 30us/step - loss: 0.0019 - accuracy: 5.7143e-04\n",
      "Epoch 115/200\n",
      "7000/7000 [==============================] - 0s 33us/step - loss: 0.0017 - accuracy: 5.7143e-04\n",
      "Epoch 116/200\n",
      "7000/7000 [==============================] - 0s 30us/step - loss: 0.0017 - accuracy: 5.7143e-04\n",
      "Epoch 117/200\n",
      "7000/7000 [==============================] - 0s 30us/step - loss: 0.0016 - accuracy: 5.7143e-04\n",
      "Epoch 118/200\n",
      "7000/7000 [==============================] - 0s 30us/step - loss: 0.0017 - accuracy: 5.7143e-04\n",
      "Epoch 119/200\n",
      "7000/7000 [==============================] - 0s 30us/step - loss: 0.0018 - accuracy: 5.7143e-04\n",
      "Epoch 120/200\n",
      "7000/7000 [==============================] - 0s 31us/step - loss: 0.0022 - accuracy: 5.7143e-04\n",
      "Epoch 121/200\n",
      "7000/7000 [==============================] - 0s 30us/step - loss: 0.0023 - accuracy: 5.7143e-04\n",
      "Epoch 122/200\n",
      "7000/7000 [==============================] - 0s 31us/step - loss: 0.0023 - accuracy: 5.7143e-04\n",
      "Epoch 123/200\n",
      "7000/7000 [==============================] - 0s 30us/step - loss: 0.0024 - accuracy: 5.7143e-04\n",
      "Epoch 124/200\n",
      "7000/7000 [==============================] - 0s 30us/step - loss: 0.0022 - accuracy: 5.7143e-04\n",
      "Epoch 125/200\n",
      "7000/7000 [==============================] - 0s 30us/step - loss: 0.0018 - accuracy: 5.7143e-04\n",
      "Epoch 126/200\n",
      "7000/7000 [==============================] - 0s 30us/step - loss: 0.0016 - accuracy: 5.7143e-04\n",
      "Epoch 127/200\n",
      "7000/7000 [==============================] - 0s 30us/step - loss: 0.0014 - accuracy: 5.7143e-04\n",
      "Epoch 128/200\n",
      "7000/7000 [==============================] - 0s 30us/step - loss: 0.0013 - accuracy: 5.7143e-04\n",
      "Epoch 129/200\n",
      "7000/7000 [==============================] - 0s 39us/step - loss: 0.0015 - accuracy: 5.7143e-04\n",
      "Epoch 130/200\n",
      "7000/7000 [==============================] - 0s 34us/step - loss: 0.0019 - accuracy: 5.7143e-04\n",
      "Epoch 131/200\n",
      "7000/7000 [==============================] - 0s 37us/step - loss: 0.0022 - accuracy: 5.7143e-04\n",
      "Epoch 132/200\n",
      "7000/7000 [==============================] - 0s 43us/step - loss: 0.0024 - accuracy: 5.7143e-04\n",
      "Epoch 133/200\n",
      "7000/7000 [==============================] - 0s 42us/step - loss: 0.0021 - accuracy: 5.7143e-04\n",
      "Epoch 134/200\n",
      "7000/7000 [==============================] - 0s 42us/step - loss: 0.0018 - accuracy: 5.7143e-04\n",
      "Epoch 135/200\n",
      "7000/7000 [==============================] - 0s 34us/step - loss: 0.0017 - accuracy: 5.7143e-04\n",
      "Epoch 136/200\n",
      "7000/7000 [==============================] - 0s 31us/step - loss: 0.0015 - accuracy: 5.7143e-04\n",
      "Epoch 137/200\n",
      "7000/7000 [==============================] - 0s 44us/step - loss: 0.0014 - accuracy: 5.7143e-04\n",
      "Epoch 138/200\n",
      "7000/7000 [==============================] - 0s 36us/step - loss: 0.0016 - accuracy: 5.7143e-04\n",
      "Epoch 139/200\n",
      "7000/7000 [==============================] - 0s 39us/step - loss: 0.0017 - accuracy: 5.7143e-04\n",
      "Epoch 140/200\n",
      "7000/7000 [==============================] - 0s 41us/step - loss: 0.0018 - accuracy: 5.7143e-04\n",
      "Epoch 141/200\n",
      "7000/7000 [==============================] - 0s 43us/step - loss: 0.0018 - accuracy: 5.7143e-04\n",
      "Epoch 142/200\n",
      "7000/7000 [==============================] - 0s 44us/step - loss: 0.0018 - accuracy: 5.7143e-04\n",
      "Epoch 143/200\n",
      "7000/7000 [==============================] - 0s 39us/step - loss: 0.0017 - accuracy: 5.7143e-04\n",
      "Epoch 144/200\n",
      "7000/7000 [==============================] - 0s 33us/step - loss: 0.0018 - accuracy: 5.7143e-04\n",
      "Epoch 145/200\n",
      "7000/7000 [==============================] - 0s 33us/step - loss: 0.0019 - accuracy: 5.7143e-04\n",
      "Epoch 146/200\n",
      "7000/7000 [==============================] - 0s 30us/step - loss: 0.0017 - accuracy: 5.7143e-04\n",
      "Epoch 147/200\n",
      "7000/7000 [==============================] - 0s 31us/step - loss: 0.0015 - accuracy: 5.7143e-04\n",
      "Epoch 148/200\n",
      "7000/7000 [==============================] - 0s 30us/step - loss: 0.0015 - accuracy: 5.7143e-04\n",
      "Epoch 149/200\n",
      "7000/7000 [==============================] - 0s 31us/step - loss: 0.0016 - accuracy: 5.7143e-04\n",
      "Epoch 150/200\n"
     ]
    },
    {
     "name": "stdout",
     "output_type": "stream",
     "text": [
      "7000/7000 [==============================] - 0s 30us/step - loss: 0.0020 - accuracy: 5.7143e-04\n",
      "Epoch 151/200\n",
      "7000/7000 [==============================] - 0s 31us/step - loss: 0.0022 - accuracy: 5.7143e-04\n",
      "Epoch 152/200\n",
      "7000/7000 [==============================] - 0s 41us/step - loss: 0.0018 - accuracy: 5.7143e-04\n",
      "Epoch 153/200\n",
      "7000/7000 [==============================] - 0s 43us/step - loss: 0.0016 - accuracy: 5.7143e-04\n",
      "Epoch 154/200\n",
      "7000/7000 [==============================] - 0s 47us/step - loss: 0.0012 - accuracy: 5.7143e-04\n",
      "Epoch 155/200\n",
      "7000/7000 [==============================] - 0s 47us/step - loss: 0.0012 - accuracy: 5.7143e-04\n",
      "Epoch 156/200\n",
      "7000/7000 [==============================] - 0s 32us/step - loss: 0.0013 - accuracy: 5.7143e-04\n",
      "Epoch 157/200\n",
      "7000/7000 [==============================] - 0s 31us/step - loss: 0.0014 - accuracy: 5.7143e-04\n",
      "Epoch 158/200\n",
      "7000/7000 [==============================] - 0s 31us/step - loss: 0.0015 - accuracy: 5.7143e-04\n",
      "Epoch 159/200\n",
      "7000/7000 [==============================] - 0s 30us/step - loss: 0.0016 - accuracy: 5.7143e-04\n",
      "Epoch 160/200\n",
      "7000/7000 [==============================] - 0s 32us/step - loss: 0.0017 - accuracy: 5.7143e-04\n",
      "Epoch 161/200\n",
      "7000/7000 [==============================] - 0s 30us/step - loss: 0.0019 - accuracy: 5.7143e-04\n",
      "Epoch 162/200\n",
      "7000/7000 [==============================] - 0s 31us/step - loss: 0.0017 - accuracy: 5.7143e-04\n",
      "Epoch 163/200\n",
      "7000/7000 [==============================] - 0s 31us/step - loss: 0.0016 - accuracy: 5.7143e-04\n",
      "Epoch 164/200\n",
      "7000/7000 [==============================] - 0s 30us/step - loss: 0.0014 - accuracy: 5.7143e-04\n",
      "Epoch 165/200\n",
      "7000/7000 [==============================] - 0s 30us/step - loss: 0.0013 - accuracy: 5.7143e-04\n",
      "Epoch 166/200\n",
      "7000/7000 [==============================] - 0s 30us/step - loss: 0.0014 - accuracy: 5.7143e-04\n",
      "Epoch 167/200\n",
      "7000/7000 [==============================] - 0s 30us/step - loss: 0.0016 - accuracy: 5.7143e-04\n",
      "Epoch 168/200\n",
      "7000/7000 [==============================] - 0s 31us/step - loss: 0.0017 - accuracy: 5.7143e-04\n",
      "Epoch 169/200\n",
      "7000/7000 [==============================] - 0s 31us/step - loss: 0.0015 - accuracy: 5.7143e-04\n",
      "Epoch 170/200\n",
      "7000/7000 [==============================] - 0s 30us/step - loss: 0.0018 - accuracy: 5.7143e-04\n",
      "Epoch 171/200\n",
      "7000/7000 [==============================] - 0s 30us/step - loss: 0.0017 - accuracy: 5.7143e-04\n",
      "Epoch 172/200\n",
      "7000/7000 [==============================] - 0s 30us/step - loss: 0.0019 - accuracy: 5.7143e-04\n",
      "Epoch 173/200\n",
      "7000/7000 [==============================] - 0s 31us/step - loss: 0.0015 - accuracy: 5.7143e-04\n",
      "Epoch 174/200\n",
      "7000/7000 [==============================] - 0s 30us/step - loss: 0.0015 - accuracy: 5.7143e-04\n",
      "Epoch 175/200\n",
      "7000/7000 [==============================] - 0s 33us/step - loss: 0.0013 - accuracy: 5.7143e-04\n",
      "Epoch 176/200\n",
      "7000/7000 [==============================] - 0s 36us/step - loss: 0.0011 - accuracy: 5.7143e-04\n",
      "Epoch 177/200\n",
      "7000/7000 [==============================] - 0s 42us/step - loss: 0.0012 - accuracy: 5.7143e-04\n",
      "Epoch 178/200\n",
      "7000/7000 [==============================] - 0s 31us/step - loss: 0.0016 - accuracy: 5.7143e-04\n",
      "Epoch 179/200\n",
      "7000/7000 [==============================] - 0s 31us/step - loss: 0.0017 - accuracy: 5.7143e-04\n",
      "Epoch 180/200\n",
      "7000/7000 [==============================] - 0s 32us/step - loss: 0.0015 - accuracy: 5.7143e-04\n",
      "Epoch 181/200\n",
      "7000/7000 [==============================] - 0s 35us/step - loss: 0.0014 - accuracy: 5.7143e-04\n",
      "Epoch 182/200\n",
      "7000/7000 [==============================] - 0s 31us/step - loss: 0.0014 - accuracy: 5.7143e-04\n",
      "Epoch 183/200\n",
      "7000/7000 [==============================] - 0s 31us/step - loss: 0.0016 - accuracy: 5.7143e-04\n",
      "Epoch 184/200\n",
      "7000/7000 [==============================] - 0s 31us/step - loss: 0.0015 - accuracy: 5.7143e-04\n",
      "Epoch 185/200\n",
      "7000/7000 [==============================] - 0s 31us/step - loss: 0.0013 - accuracy: 5.7143e-04\n",
      "Epoch 186/200\n",
      "7000/7000 [==============================] - 0s 31us/step - loss: 0.0013 - accuracy: 5.7143e-04\n",
      "Epoch 187/200\n",
      "7000/7000 [==============================] - 0s 31us/step - loss: 0.0013 - accuracy: 5.7143e-04\n",
      "Epoch 188/200\n",
      "7000/7000 [==============================] - 0s 30us/step - loss: 0.0014 - accuracy: 5.7143e-04\n",
      "Epoch 189/200\n",
      "7000/7000 [==============================] - 0s 31us/step - loss: 0.0013 - accuracy: 5.7143e-04\n",
      "Epoch 190/200\n",
      "7000/7000 [==============================] - 0s 30us/step - loss: 0.0013 - accuracy: 5.7143e-04\n",
      "Epoch 191/200\n",
      "7000/7000 [==============================] - 0s 31us/step - loss: 0.0015 - accuracy: 5.7143e-04\n",
      "Epoch 192/200\n",
      "7000/7000 [==============================] - 0s 31us/step - loss: 0.0015 - accuracy: 5.7143e-04\n",
      "Epoch 193/200\n",
      "7000/7000 [==============================] - 0s 31us/step - loss: 0.0017 - accuracy: 5.7143e-04\n",
      "Epoch 194/200\n",
      "7000/7000 [==============================] - 0s 30us/step - loss: 0.0014 - accuracy: 5.7143e-04\n",
      "Epoch 195/200\n",
      "7000/7000 [==============================] - 0s 30us/step - loss: 0.0013 - accuracy: 5.7143e-04\n",
      "Epoch 196/200\n",
      "7000/7000 [==============================] - 0s 30us/step - loss: 0.0013 - accuracy: 5.7143e-04\n",
      "Epoch 197/200\n",
      "7000/7000 [==============================] - 0s 30us/step - loss: 0.0012 - accuracy: 5.7143e-04\n",
      "Epoch 198/200\n",
      "7000/7000 [==============================] - 0s 30us/step - loss: 0.0012 - accuracy: 5.7143e-04\n",
      "Epoch 199/200\n",
      "7000/7000 [==============================] - 0s 30us/step - loss: 0.0012 - accuracy: 5.7143e-04\n",
      "Epoch 200/200\n",
      "7000/7000 [==============================] - 0s 30us/step - loss: 0.0012 - accuracy: 5.7143e-04\n"
     ]
    },
    {
     "data": {
      "text/plain": [
       "<keras.callbacks.callbacks.History at 0x147d61780>"
      ]
     },
     "execution_count": 1082,
     "metadata": {},
     "output_type": "execute_result"
    }
   ],
   "source": [
    "network.fit(train_final, y, epochs=200, verbose=1)"
   ]
  },
  {
   "cell_type": "markdown",
   "metadata": {},
   "source": [
    "# XGB"
   ]
  },
  {
   "cell_type": "code",
   "execution_count": 1153,
   "metadata": {},
   "outputs": [],
   "source": [
    "clf = XGBRegressor(random_state=96, colsample_bytree=0.7, max_depth=6, n_jobs=-1, gamma=0.1)"
   ]
  },
  {
   "cell_type": "code",
   "execution_count": 1154,
   "metadata": {},
   "outputs": [
    {
     "data": {
      "text/plain": [
       "XGBRegressor(base_score=0.5, booster='gbtree', colsample_bylevel=1,\n",
       "             colsample_bynode=1, colsample_bytree=0.7, gamma=0.1, gpu_id=-1,\n",
       "             importance_type='gain', interaction_constraints='',\n",
       "             learning_rate=0.300000012, max_delta_step=0, max_depth=6,\n",
       "             min_child_weight=1, missing=nan, monotone_constraints='()',\n",
       "             n_estimators=100, n_jobs=-1, num_parallel_tree=1,\n",
       "             objective='reg:squarederror', random_state=96, reg_alpha=0,\n",
       "             reg_lambda=1, scale_pos_weight=1, subsample=1, tree_method='exact',\n",
       "             validate_parameters=1, verbosity=None)"
      ]
     },
     "execution_count": 1154,
     "metadata": {},
     "output_type": "execute_result"
    }
   ],
   "source": [
    "clf.fit(train_final, y)"
   ]
  },
  {
   "cell_type": "code",
   "execution_count": 1844,
   "metadata": {},
   "outputs": [],
   "source": [
    "clf2 = XGBRFRegressor(random_state=96, colsample_bytree=0.7, max_depth=6, n_jobs=-1, gamma=0.1, \n",
    "                      reg_alpha=.5)"
   ]
  },
  {
   "cell_type": "code",
   "execution_count": 1845,
   "metadata": {},
   "outputs": [
    {
     "data": {
      "text/plain": [
       "XGBRFRegressor(base_score=0.5, booster='gbtree', colsample_bylevel=1,\n",
       "               colsample_bynode=0.8, colsample_bytree=0.7, gamma=0.1, gpu_id=-1,\n",
       "               importance_type='gain', interaction_constraints='',\n",
       "               learning_rate=1, max_delta_step=0, max_depth=6,\n",
       "               min_child_weight=1, missing=nan, monotone_constraints='()',\n",
       "               n_estimators=100, n_jobs=-1, num_parallel_tree=100,\n",
       "               objective='reg:squarederror', random_state=96, reg_alpha=0.5,\n",
       "               reg_lambda=1e-05, scale_pos_weight=1, subsample=0.8,\n",
       "               tree_method='exact', validate_parameters=1, verbosity=None)"
      ]
     },
     "execution_count": 1845,
     "metadata": {},
     "output_type": "execute_result"
    }
   ],
   "source": [
    "clf2.fit(train_final, y)"
   ]
  },
  {
   "cell_type": "markdown",
   "metadata": {},
   "source": [
    "# AdaBoost"
   ]
  },
  {
   "cell_type": "code",
   "execution_count": 1710,
   "metadata": {},
   "outputs": [],
   "source": [
    "ada = AdaBoostRegressor(random_state=96, base_estimator=RandomForestRegressor(random_state=101, n_jobs=-1,\n",
    "                                                                             max_depth=10),\n",
    "                         n_estimators=100, learning_rate=0.01)"
   ]
  },
  {
   "cell_type": "code",
   "execution_count": null,
   "metadata": {},
   "outputs": [],
   "source": [
    "ada.fit(train_final, y)"
   ]
  },
  {
   "cell_type": "markdown",
   "metadata": {},
   "source": [
    "# LGBM"
   ]
  },
  {
   "cell_type": "code",
   "execution_count": 1356,
   "metadata": {},
   "outputs": [],
   "source": [
    "params = {\n",
    "    'boosting_type': 'gbdt',\n",
    "    'objective': 'regression',\n",
    "    'metric': 'rmsle',\n",
    "    'max_depth': 6, \n",
    "    'learning_rate': 0.1,\n",
    "    'verbose': 0}\n",
    "n_estimators = 100"
   ]
  },
  {
   "cell_type": "code",
   "execution_count": 1361,
   "metadata": {},
   "outputs": [],
   "source": [
    "'''x_train, x_valid, y_train, y_valid = train_test_split(train_final, y, test_size=0.10, random_state=5)\n",
    "d_train = lgb.Dataset(x_train, label=y_train)\n",
    "d_valid = lgb.Dataset(x_valid, label=y_valid)\n",
    "watchlist = [d_valid]'''\n",
    "d_train = lgb.Dataset(train_final, label=y)"
   ]
  },
  {
   "cell_type": "code",
   "execution_count": 1362,
   "metadata": {},
   "outputs": [],
   "source": [
    "model = lgb.train(params, d_train, n_estimators, verbose_eval=1)"
   ]
  },
  {
   "cell_type": "code",
   "execution_count": null,
   "metadata": {},
   "outputs": [],
   "source": []
  },
  {
   "cell_type": "markdown",
   "metadata": {},
   "source": [
    "# Output"
   ]
  },
  {
   "cell_type": "code",
   "execution_count": 1846,
   "metadata": {},
   "outputs": [],
   "source": [
    "final = clf2.predict(test_final)\n",
    "dv = pd.DataFrame(ID)\n",
    "dv['Attrition_rate'] = final\n",
    "dv.to_csv('sample_submission.csv', index=False)"
   ]
  },
  {
   "cell_type": "code",
   "execution_count": null,
   "metadata": {},
   "outputs": [],
   "source": []
  },
  {
   "cell_type": "code",
   "execution_count": null,
   "metadata": {},
   "outputs": [],
   "source": []
  }
 ],
 "metadata": {
  "kernelspec": {
   "display_name": "Python 3",
   "language": "python",
   "name": "python3"
  },
  "language_info": {
   "codemirror_mode": {
    "name": "ipython",
    "version": 3
   },
   "file_extension": ".py",
   "mimetype": "text/x-python",
   "name": "python",
   "nbconvert_exporter": "python",
   "pygments_lexer": "ipython3",
   "version": "3.7.4"
  }
 },
 "nbformat": 4,
 "nbformat_minor": 2
}
